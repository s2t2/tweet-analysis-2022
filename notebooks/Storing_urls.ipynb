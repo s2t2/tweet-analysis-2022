{
 "cells": [
  {
   "cell_type": "code",
   "execution_count": 1,
   "id": "2f26ae40",
   "metadata": {},
   "outputs": [],
   "source": [
    "### Importing required packages \n",
    "import os\n",
    "from pprint import pprint\n",
    "from dotenv import load_dotenv\n",
    "import tweepy\n",
    "import pandas as pd\n",
    "import sqlite3\n",
    "import re\n",
    "import numpy as np"
   ]
  },
  {
   "cell_type": "code",
   "execution_count": 2,
   "id": "d6ca2f97",
   "metadata": {},
   "outputs": [],
   "source": [
    "### Loading in the environment variables\n",
    "load_dotenv()\n",
    "\n",
    "### For Twitter API v2 \n",
    "TWITTER_BEARER_TOKEN = os.getenv(\"TWITTER_BEARER_TOKEN\", default = \"OOPS\")"
   ]
  },
  {
   "cell_type": "code",
   "execution_count": 3,
   "id": "5de4a81e",
   "metadata": {},
   "outputs": [],
   "source": [
    "### Establishing the client \n",
    "\n",
    "client = tweepy.Client(bearer_token = TWITTER_BEARER_TOKEN)"
   ]
  },
  {
   "cell_type": "code",
   "execution_count": 14,
   "id": "4d10f997",
   "metadata": {},
   "outputs": [],
   "source": [
    "MAX_RESULTS = 100\n",
    "query = '#COP26 lang:en'\n",
    "response = client.search_recent_tweets(query = query, expansions=['author_id','attachments.media_keys','referenced_tweets.id','geo.place_id'], tweet_fields=['created_at','entities','context_annotations'], media_fields=['url','preview_image_url'], user_fields=['created_at','verified'], max_results = MAX_RESULTS)\n"
   ]
  },
  {
   "cell_type": "code",
   "execution_count": null,
   "id": "79926095",
   "metadata": {},
   "outputs": [],
   "source": [
    "def lookup_tweet(ref_id) :\n",
    "    response = client.get_tweets(ref_id, tweet_fields = ['entities'])\n",
    "    for tweet in response.data :\n",
    "        if hasattr(tweet, 'entities') and tweet['entities'] :\n",
    "            url_entities = tweet.entities.get('urls') or [] \n",
    "        else :\n",
    "            url_entities = []\n",
    "        \n",
    "    return url_entities    "
   ]
  },
  {
   "cell_type": "code",
   "execution_count": 37,
   "id": "4f68a095",
   "metadata": {},
   "outputs": [],
   "source": [
    "url_records = []\n",
    "\n",
    "for tweet in response.data :\n",
    "    url_entities = tweet.entities.get('urls') or [] \n",
    "    \n",
    "    if hasattr(tweet, \"referenced_tweets\") and tweet[\"referenced_tweets\"]:\n",
    "            referenced_tweets = tweet[\"referenced_tweets\"]\n",
    "            for ref in referenced_tweets:\n",
    "                ref_id = [ref.id]\n",
    "                url_entities = lookup_tweet(ref_id)\n",
    "                urls = [{'status_id' : tweet.id, 'url' : ent['expanded_url']} for ent in url_entities]\n",
    "                url_records += urls\n",
    "\n",
    "    else :\n",
    "        urls = [{'status_id' : tweet.id, 'url' : ent['expanded_url']} for ent in url_entities]\n",
    "        url_records += urls\n",
    "    \n",
    "    \n",
    "    "
   ]
  },
  {
   "cell_type": "code",
   "execution_count": 39,
   "id": "27aaa0c8",
   "metadata": {},
   "outputs": [
    {
     "data": {
      "text/plain": [
       "121"
      ]
     },
     "execution_count": 39,
     "metadata": {},
     "output_type": "execute_result"
    }
   ],
   "source": [
    "len(url_records)"
   ]
  }
 ],
 "metadata": {
  "kernelspec": {
   "display_name": "Python 3 (ipykernel)",
   "language": "python",
   "name": "python3"
  },
  "language_info": {
   "codemirror_mode": {
    "name": "ipython",
    "version": 3
   },
   "file_extension": ".py",
   "mimetype": "text/x-python",
   "name": "python",
   "nbconvert_exporter": "python",
   "pygments_lexer": "ipython3",
   "version": "3.9.1"
  },
  "varInspector": {
   "cols": {
    "lenName": 16,
    "lenType": 16,
    "lenVar": 40
   },
   "kernels_config": {
    "python": {
     "delete_cmd_postfix": "",
     "delete_cmd_prefix": "del ",
     "library": "var_list.py",
     "varRefreshCmd": "print(var_dic_list())"
    },
    "r": {
     "delete_cmd_postfix": ") ",
     "delete_cmd_prefix": "rm(",
     "library": "var_list.r",
     "varRefreshCmd": "cat(var_dic_list()) "
    }
   },
   "types_to_exclude": [
    "module",
    "function",
    "builtin_function_or_method",
    "instance",
    "_Feature"
   ],
   "window_display": false
  }
 },
 "nbformat": 4,
 "nbformat_minor": 5
}
